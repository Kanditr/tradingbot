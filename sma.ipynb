{
 "cells": [
  {
   "cell_type": "code",
   "execution_count": 99,
   "metadata": {},
   "outputs": [],
   "source": [
    "import requests\n",
    "from typing import Dict, Any"
   ]
  },
  {
   "cell_type": "code",
   "execution_count": 100,
   "metadata": {},
   "outputs": [],
   "source": [
    "def fetch_technical_analysis_data(symbol: str, indicator: str, window: str) -> Dict[str, Any]:\n",
    "\n",
    "        url = f\"https://api.polygon.io/v1/indicators/{indicator}/{symbol}\"\n",
    "        params = {\n",
    "            \"timespan\": \"day\",\n",
    "            \"adjusted\": \"true\",\n",
    "            \"window\": window,\n",
    "            \"series_type\": \"close\",\n",
    "            \"order\": \"desc\",\n",
    "            \"limit\": \"10\",\n",
    "            \"apiKey\": \"oZq3U8aflrRout9jUqmtkGc6ZEf72MNj\"\n",
    "        }\n",
    "        try:\n",
    "            response = requests.get(url, params=params)\n",
    "            response.raise_for_status()\n",
    "            data = response.json()\n",
    "            print(f\"Technical indicator data for {symbol} ({indicator}): {data}\")\n",
    "            return data\n",
    "        except requests.exceptions.RequestException as e:\n",
    "            return None"
   ]
  },
  {
   "cell_type": "code",
   "execution_count": 101,
   "metadata": {},
   "outputs": [
    {
     "name": "stdout",
     "output_type": "stream",
     "text": [
      "Technical indicator data for NVO (sma): {'results': {'underlying': {'url': 'https://api.polygon.io/v2/aggs/ticker/NVO/range/1/day/1063281600000/1734835774539?limit=57&sort=desc'}, 'values': [{'timestamp': 1734670800000, 'value': 105.79800000000003}, {'timestamp': 1734584400000, 'value': 108.37500000000003}, {'timestamp': 1734498000000, 'value': 108.91300000000001}, {'timestamp': 1734411600000, 'value': 109.21400000000001}, {'timestamp': 1734325200000, 'value': 109.33300000000001}, {'timestamp': 1734066000000, 'value': 109.39500000000002}, {'timestamp': 1733979600000, 'value': 109.38000000000002}, {'timestamp': 1733893200000, 'value': 109.13200000000002}, {'timestamp': 1733806800000, 'value': 108.57600000000002}, {'timestamp': 1733720400000, 'value': 108.11300000000001}]}, 'status': 'OK', 'request_id': '843116985f555981f3a40045cd12f97f', 'next_url': 'https://api.polygon.io/v1/indicators/sma/NVO?cursor=YWRqdXN0ZWQ9dHJ1ZSZhcD0lN0IlMjJ2JTIyJTNBMCUyQyUyMm8lMjIlM0EwJTJDJTIyYyUyMiUzQTExMC43NyUyQyUyMmglMjIlM0EwJTJDJTIybCUyMiUzQTAlMkMlMjJ0JTIyJTNBMTczMzQ2MTIwMDAwMCU3RCZhcz0mZXhwYW5kX3VuZGVybHlpbmc9ZmFsc2UmbGltaXQ9MTAmb3JkZXI9ZGVzYyZzZXJpZXNfdHlwZT1jbG9zZSZ0aW1lc3Bhbj1kYXkmdGltZXN0YW1wLmx0PTE3MzM3MjA0MDAwMDAmd2luZG93PTEw'}\n"
     ]
    }
   ],
   "source": [
    "sma_10_data = fetch_technical_analysis_data(\"NVO\", 'sma', '10')"
   ]
  },
  {
   "cell_type": "code",
   "execution_count": 102,
   "metadata": {},
   "outputs": [
    {
     "name": "stdout",
     "output_type": "stream",
     "text": [
      "timestamp: 1734670800000, SMA10 Value: 105.79800000000003\n",
      "timestamp: 1734584400000, SMA10 Value: 108.37500000000003\n",
      "timestamp: 1734498000000, SMA10 Value: 108.91300000000001\n",
      "timestamp: 1734411600000, SMA10 Value: 109.21400000000001\n",
      "timestamp: 1734325200000, SMA10 Value: 109.33300000000001\n",
      "timestamp: 1734066000000, SMA10 Value: 109.39500000000002\n",
      "timestamp: 1733979600000, SMA10 Value: 109.38000000000002\n",
      "timestamp: 1733893200000, SMA10 Value: 109.13200000000002\n",
      "timestamp: 1733806800000, SMA10 Value: 108.57600000000002\n",
      "timestamp: 1733720400000, SMA10 Value: 108.11300000000001\n"
     ]
    }
   ],
   "source": [
    "from datetime import datetime\n",
    "\n",
    "if sma_10_data and \"results\" in sma_10_data and \"values\" in sma_10_data[\"results\"]:\n",
    "    for result in sma_10_data[\"results\"][\"values\"]:\n",
    "        timestamp = result[\"timestamp\"]\n",
    "        value = result[\"value\"]\n",
    "        print(f\"timestamp: {timestamp}, SMA10 Value: {value}\")\n",
    "else:\n",
    "    print(\"No data found or invalid response.\")"
   ]
  },
  {
   "cell_type": "code",
   "execution_count": 103,
   "metadata": {},
   "outputs": [
    {
     "name": "stdout",
     "output_type": "stream",
     "text": [
      "Technical indicator data for NVO (sma): {'results': {'underlying': {'url': 'https://api.polygon.io/v2/aggs/ticker/NVO/range/1/day/1063281600000/1734835775325?limit=235&sort=desc'}, 'values': [{'timestamp': 1734670800000, 'value': 109.27739999999999}, {'timestamp': 1734584400000, 'value': 109.92799999999997}, {'timestamp': 1734498000000, 'value': 110.19919999999998}, {'timestamp': 1734411600000, 'value': 110.42399999999998}, {'timestamp': 1734325200000, 'value': 110.61919999999998}, {'timestamp': 1734066000000, 'value': 110.76059999999998}, {'timestamp': 1733979600000, 'value': 110.92319999999998}, {'timestamp': 1733893200000, 'value': 111.08059999999998}, {'timestamp': 1733806800000, 'value': 111.207}, {'timestamp': 1733720400000, 'value': 111.40459999999999}]}, 'status': 'OK', 'request_id': '6adde0e5d4f563c3996025e00c4bba28', 'next_url': 'https://api.polygon.io/v1/indicators/sma/NVO?cursor=YWRqdXN0ZWQ9dHJ1ZSZhcD0lN0IlMjJ2JTIyJTNBMCUyQyUyMm8lMjIlM0EwJTJDJTIyYyUyMiUzQTExMC43NyUyQyUyMmglMjIlM0EwJTJDJTIybCUyMiUzQTAlMkMlMjJ0JTIyJTNBMTczMzQ2MTIwMDAwMCU3RCZhcz0mZXhwYW5kX3VuZGVybHlpbmc9ZmFsc2UmbGltaXQ9MTAmb3JkZXI9ZGVzYyZzZXJpZXNfdHlwZT1jbG9zZSZ0aW1lc3Bhbj1kYXkmdGltZXN0YW1wLmx0PTE3MzM3MjA0MDAwMDAmd2luZG93PTUw'}\n"
     ]
    }
   ],
   "source": [
    "sma_50_data = fetch_technical_analysis_data(\"NVO\", 'sma', '50')"
   ]
  },
  {
   "cell_type": "code",
   "execution_count": 104,
   "metadata": {},
   "outputs": [
    {
     "name": "stdout",
     "output_type": "stream",
     "text": [
      "timestamp: 1734670800000, SMA50 Value: 109.27739999999999\n",
      "timestamp: 1734584400000, SMA50 Value: 109.92799999999997\n",
      "timestamp: 1734498000000, SMA50 Value: 110.19919999999998\n",
      "timestamp: 1734411600000, SMA50 Value: 110.42399999999998\n",
      "timestamp: 1734325200000, SMA50 Value: 110.61919999999998\n",
      "timestamp: 1734066000000, SMA50 Value: 110.76059999999998\n",
      "timestamp: 1733979600000, SMA50 Value: 110.92319999999998\n",
      "timestamp: 1733893200000, SMA50 Value: 111.08059999999998\n",
      "timestamp: 1733806800000, SMA50 Value: 111.207\n",
      "timestamp: 1733720400000, SMA50 Value: 111.40459999999999\n"
     ]
    }
   ],
   "source": [
    "if sma_50_data and \"results\" in sma_50_data and \"values\" in sma_50_data[\"results\"]:\n",
    "    for result in sma_50_data[\"results\"][\"values\"]:\n",
    "        timestamp = result[\"timestamp\"]\n",
    "        value = result[\"value\"]\n",
    "        print(f\"timestamp: {timestamp}, SMA50 Value: {value}\")\n",
    "else:\n",
    "    print(\"No data found or invalid response.\")"
   ]
  },
  {
   "cell_type": "code",
   "execution_count": 105,
   "metadata": {},
   "outputs": [],
   "source": [
    "import pandas as pd\n",
    "\n",
    "# Convert SMA10 data to DataFrame\n",
    "if sma_10_data and \"results\" in sma_10_data and \"values\" in sma_10_data[\"results\"]:\n",
    "\tdf_sma10 = pd.DataFrame(sma_10_data[\"results\"][\"values\"])\n",
    "\tdf_sma10['timestamp'] = pd.to_datetime(df_sma10['timestamp'], unit='ms')\n",
    "\tdf_sma10 = df_sma10.rename(columns={'value': 'SMA10'})\n",
    "else:\n",
    "\tdf_sma10 = pd.DataFrame()\n",
    "\n",
    "# Convert SMA50 data to DataFrame\n",
    "if sma_50_data and \"results\" in sma_50_data and \"values\" in sma_50_data[\"results\"]:\n",
    "\tdf_sma50 = pd.DataFrame(sma_50_data[\"results\"][\"values\"])\n",
    "\tdf_sma50['timestamp'] = pd.to_datetime(df_sma50['timestamp'], unit='ms')\n",
    "\tdf_sma50 = df_sma50.rename(columns={'value': 'SMA50'})\n",
    "else:\n",
    "\tdf_sma50 = pd.DataFrame()"
   ]
  },
  {
   "cell_type": "code",
   "execution_count": 106,
   "metadata": {},
   "outputs": [
    {
     "name": "stdout",
     "output_type": "stream",
     "text": [
      "            timestamp    SMA10     SMA50\n",
      "0 2024-12-09 05:00:00  108.113  111.4046\n",
      "1 2024-12-10 05:00:00  108.576  111.2070\n",
      "2 2024-12-11 05:00:00  109.132  111.0806\n",
      "3 2024-12-12 05:00:00  109.380  110.9232\n",
      "4 2024-12-13 05:00:00  109.395  110.7606\n",
      "5 2024-12-16 05:00:00  109.333  110.6192\n",
      "6 2024-12-17 05:00:00  109.214  110.4240\n",
      "7 2024-12-18 05:00:00  108.913  110.1992\n",
      "8 2024-12-19 05:00:00  108.375  109.9280\n",
      "9 2024-12-20 05:00:00  105.798  109.2774\n"
     ]
    }
   ],
   "source": [
    "# Merge SMA10 and SMA50 on Date\n",
    "df_merged = pd.merge(df_sma10, df_sma50, on='timestamp', how='inner')\n",
    "df_merged = df_merged.sort_values('timestamp', ascending=True)\n",
    "df_merged = df_merged.reset_index(drop=True)\n",
    "print(df_merged)"
   ]
  },
  {
   "cell_type": "code",
   "execution_count": 107,
   "metadata": {},
   "outputs": [
    {
     "name": "stdout",
     "output_type": "stream",
     "text": [
      "            timestamp    SMA10     SMA50  SMA_Strength_Percent\n",
      "0 2024-12-09 05:00:00  108.113  111.4046             -2.954636\n",
      "1 2024-12-10 05:00:00  108.576  111.2070             -2.365858\n",
      "2 2024-12-11 05:00:00  109.132  111.0806             -1.754222\n",
      "3 2024-12-12 05:00:00  109.380  110.9232             -1.391233\n",
      "4 2024-12-13 05:00:00  109.395  110.7606             -1.232929\n",
      "5 2024-12-16 05:00:00  109.333  110.6192             -1.162728\n",
      "6 2024-12-17 05:00:00  109.214  110.4240             -1.095776\n",
      "7 2024-12-18 05:00:00  108.913  110.1992             -1.167159\n",
      "8 2024-12-19 05:00:00  108.375  109.9280             -1.412743\n",
      "9 2024-12-20 05:00:00  105.798  109.2774             -3.184007\n"
     ]
    }
   ],
   "source": [
    "# Calculate SMA Strength Percentage\n",
    "df_merged['SMA_Strength_Percent'] = ((df_merged['SMA10'] - df_merged['SMA50']) / df_merged['SMA50']) * 100\n",
    "print(df_merged)"
   ]
  },
  {
   "cell_type": "code",
   "execution_count": 108,
   "metadata": {},
   "outputs": [
    {
     "name": "stdout",
     "output_type": "stream",
     "text": [
      "            timestamp    SMA10     SMA50  SMA_Strength_Percent  \\\n",
      "0 2024-12-09 05:00:00  108.113  111.4046             -2.954636   \n",
      "1 2024-12-10 05:00:00  108.576  111.2070             -2.365858   \n",
      "2 2024-12-11 05:00:00  109.132  111.0806             -1.754222   \n",
      "3 2024-12-12 05:00:00  109.380  110.9232             -1.391233   \n",
      "4 2024-12-13 05:00:00  109.395  110.7606             -1.232929   \n",
      "5 2024-12-16 05:00:00  109.333  110.6192             -1.162728   \n",
      "6 2024-12-17 05:00:00  109.214  110.4240             -1.095776   \n",
      "7 2024-12-18 05:00:00  108.913  110.1992             -1.167159   \n",
      "8 2024-12-19 05:00:00  108.375  109.9280             -1.412743   \n",
      "9 2024-12-20 05:00:00  105.798  109.2774             -3.184007   \n",
      "\n",
      "   SMA_Strength_MA5  SMA_Strength_Slope  \n",
      "0         -2.954636                 NaN  \n",
      "1         -2.660247            0.588777  \n",
      "2         -2.358239            0.600207  \n",
      "3         -2.116487            0.530184  \n",
      "4         -1.939776            0.441804  \n",
      "5         -1.581394            0.292755  \n",
      "6         -1.327378            0.154540  \n",
      "7         -1.209965            0.058530  \n",
      "8         -1.214267           -0.036406  \n",
      "9         -1.604483           -0.435953  \n"
     ]
    }
   ],
   "source": [
    "import numpy as np\n",
    "\n",
    "# Define the window for trend calculation\n",
    "trend_window = 5\n",
    "\n",
    "# Calculate the moving average of SMA Strength\n",
    "df_merged['SMA_Strength_MA5'] = df_merged['SMA_Strength_Percent'].rolling(window=trend_window, min_periods=1).mean()\n",
    "\n",
    "# Calculate the slope of SMA Strength over the window using linear regression\n",
    "def calculate_slope(series):\n",
    "    if series.isnull().any() or len(series) < 2:\n",
    "        return np.nan\n",
    "    x = np.arange(len(series))\n",
    "    y = series.values\n",
    "    slope, _ = np.polyfit(x, y, 1)\n",
    "    return slope\n",
    "\n",
    "df_merged['SMA_Strength_Slope'] = df_merged['SMA_Strength_Percent'].rolling(window=trend_window, min_periods=1).apply(calculate_slope, raw=False)\n",
    "\n",
    "print(df_merged)"
   ]
  },
  {
   "cell_type": "code",
   "execution_count": 109,
   "metadata": {},
   "outputs": [],
   "source": [
    "# Function to assign SMA Crossover Strength Score\n",
    "def assign_sma_score(row):\n",
    "    strength = row['SMA_Strength_Percent']\n",
    "    slope = row['SMA_Strength_Slope']\n",
    "    \n",
    "    # Define slope thresholds\n",
    "    slope_threshold_up = 0.5  # % per day\n",
    "    slope_threshold_down = -0.5  # % per day\n",
    "    \n",
    "    # Determine trend direction\n",
    "    if pd.isna(slope):\n",
    "        trend = 'Stable'\n",
    "    elif slope > slope_threshold_up:\n",
    "        trend = 'Increasing'\n",
    "    elif slope < slope_threshold_down:\n",
    "        trend = 'Decreasing'\n",
    "    else:\n",
    "        trend = 'Stable'\n",
    "    \n",
    "    # Assign score based on strength and trend\n",
    "    if strength > 25:\n",
    "        if trend == 'Increasing':\n",
    "            return 10\n",
    "        elif trend == 'Stable':\n",
    "            return 8\n",
    "        elif trend == 'Decreasing':\n",
    "            return 5\n",
    "    elif 15 < strength <= 25:\n",
    "        if trend == 'Increasing':\n",
    "            return 7\n",
    "        elif trend == 'Stable':\n",
    "            return 5\n",
    "        elif trend == 'Decreasing':\n",
    "            return 2\n",
    "    elif 5 < strength <= 15:\n",
    "        if trend == 'Increasing':\n",
    "            return 4\n",
    "        elif trend == 'Stable':\n",
    "            return 2\n",
    "        elif trend == 'Decreasing':\n",
    "            return 0\n",
    "    elif -5 < strength <= 5:\n",
    "        if trend in ['Increasing', 'Stable']:\n",
    "            return -1\n",
    "        elif trend == 'Decreasing':\n",
    "            return -2\n",
    "    elif strength <= -5:\n",
    "        if trend == 'Increasing':\n",
    "            return -4\n",
    "        elif trend == 'Stable':\n",
    "            return -5\n",
    "        elif trend == 'Decreasing':\n",
    "            return -7\n",
    "    else:\n",
    "        return 0  # Neutral\n",
    "    \n"
   ]
  },
  {
   "cell_type": "code",
   "execution_count": 111,
   "metadata": {},
   "outputs": [
    {
     "name": "stdout",
     "output_type": "stream",
     "text": [
      "            timestamp  SMA_Strength_Percent  SMA_Strength_Slope  SMA_Score\n",
      "0 2024-12-09 05:00:00             -2.954636                 NaN         -1\n",
      "1 2024-12-10 05:00:00             -2.365858            0.588777         -1\n",
      "2 2024-12-11 05:00:00             -1.754222            0.600207         -1\n",
      "3 2024-12-12 05:00:00             -1.391233            0.530184         -1\n",
      "4 2024-12-13 05:00:00             -1.232929            0.441804         -1\n",
      "5 2024-12-16 05:00:00             -1.162728            0.292755         -1\n",
      "6 2024-12-17 05:00:00             -1.095776            0.154540         -1\n",
      "7 2024-12-18 05:00:00             -1.167159            0.058530         -1\n",
      "8 2024-12-19 05:00:00             -1.412743           -0.036406         -1\n",
      "9 2024-12-20 05:00:00             -3.184007           -0.435953         -1\n"
     ]
    }
   ],
   "source": [
    "# Apply the scoring function\n",
    "df_merged['SMA_Score'] = df_merged.apply(assign_sma_score, axis=1)\n",
    "print(df_merged[['timestamp', 'SMA_Strength_Percent', 'SMA_Strength_Slope', 'SMA_Score']])"
   ]
  }
 ],
 "metadata": {
  "kernelspec": {
   "display_name": "myenv",
   "language": "python",
   "name": "python3"
  },
  "language_info": {
   "codemirror_mode": {
    "name": "ipython",
    "version": 3
   },
   "file_extension": ".py",
   "mimetype": "text/x-python",
   "name": "python",
   "nbconvert_exporter": "python",
   "pygments_lexer": "ipython3",
   "version": "3.13.0"
  }
 },
 "nbformat": 4,
 "nbformat_minor": 2
}
